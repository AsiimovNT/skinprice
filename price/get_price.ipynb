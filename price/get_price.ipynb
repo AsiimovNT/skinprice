{
 "cells": [
  {
   "cell_type": "code",
   "execution_count": 2,
   "metadata": {},
   "outputs": [
    {
     "name": "stdout",
     "output_type": "stream",
     "text": [
      "The price of AK-47 | Redline (Field-Tested) is Price not found\n"
     ]
    }
   ],
   "source": [
    "import requests\n",
    "from bs4 import BeautifulSoup\n",
    "\n",
    "def get_skin_price(skin_name):\n",
    "    # Replace spaces with %20 for URL encoding\n",
    "    encoded_skin_name = skin_name.replace(' ', '%20')\n",
    "    url = f\"https://csfloat.com/db?name={encoded_skin_name}&min=0&max=1\"\n",
    "\n",
    "    # Send GET request to the URL\n",
    "    response = requests.get(url)\n",
    "\n",
    "    # Check if the request was successful\n",
    "    if response.status_code != 200:\n",
    "        return \"Failed to retrieve data\"\n",
    "\n",
    "    # Parse the HTML content\n",
    "    soup = BeautifulSoup(response.content, 'html.parser')\n",
    "\n",
    "    # Find the price element - adjust the parsing logic based on the actual HTML structure\n",
    "    price_elements = soup.find_all(\"div\", class_=\"price\")\n",
    "    if not price_elements:\n",
    "        return \"Price not found\"\n",
    "\n",
    "    # Extract and return the first price found\n",
    "    price = price_elements[0].text.strip()\n",
    "    return price\n",
    "\n",
    "# Example usage\n",
    "skin_name = \"AK-47 | Redline (Field-Tested)\"\n",
    "price = get_skin_price(skin_name)\n",
    "print(f\"The price of {skin_name} is {price}\")\n"
   ]
  },
  {
   "cell_type": "code",
   "execution_count": 3,
   "metadata": {},
   "outputs": [
    {
     "name": "stdout",
     "output_type": "stream",
     "text": [
      "The price of AK-47 | Redline (Field-Tested) is $24.75\n"
     ]
    }
   ],
   "source": [
    "import requests\n",
    "\n",
    "def get_steam_market_price(app_id, market_hash_name, api_key):\n",
    "    # URL for the Steam Market item price\n",
    "    market_url = f\"https://steamcommunity.com/market/priceoverview/?currency=USD&appid={app_id}&market_hash_name={market_hash_name}\"\n",
    "    \n",
    "    # Send GET request to the Steam Market item price URL\n",
    "    market_response = requests.get(market_url)\n",
    "    \n",
    "    # Check if the request was successful\n",
    "    if market_response.status_code != 200:\n",
    "        return \"Failed to retrieve market data\"\n",
    "    \n",
    "    # Parse the JSON response\n",
    "    market_data = market_response.json()\n",
    "    \n",
    "    if 'lowest_price' in market_data:\n",
    "        return market_data['lowest_price']\n",
    "    else:\n",
    "        return \"Price not found\"\n",
    "\n",
    "\n",
    "api_key = \"E5BB2989B404EB352B0104F4028523B3\"\n",
    "app_id = 730 \n",
    "market_hash_name = \"AK-47 | Redline (Field-Tested)\"  # Example skin name\n",
    "price = get_steam_market_price(app_id, market_hash_name, api_key)\n",
    "print(f\"The price of {market_hash_name} is {price}\")\n"
   ]
  }
 ],
 "metadata": {
  "kernelspec": {
   "display_name": "Python 3",
   "language": "python",
   "name": "python3"
  },
  "language_info": {
   "codemirror_mode": {
    "name": "ipython",
    "version": 3
   },
   "file_extension": ".py",
   "mimetype": "text/x-python",
   "name": "python",
   "nbconvert_exporter": "python",
   "pygments_lexer": "ipython3",
   "version": "3.11.6"
  }
 },
 "nbformat": 4,
 "nbformat_minor": 2
}
